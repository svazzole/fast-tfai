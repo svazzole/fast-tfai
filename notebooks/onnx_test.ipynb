{
 "cells": [
  {
   "cell_type": "code",
   "execution_count": null,
   "metadata": {},
   "outputs": [],
   "source": [
    "import random\n",
    "import time\n",
    "from pathlib import Path\n",
    "\n",
    "import cv2\n",
    "import matplotlib.pyplot as plt\n",
    "import numpy as np\n",
    "import onnxruntime as rt\n",
    "import pandas as pd\n",
    "from tqdm.notebook import tqdm"
   ]
  },
  {
   "cell_type": "code",
   "execution_count": null,
   "metadata": {},
   "outputs": [],
   "source": [
    "images_path = Path(\"/home/simone/workspace/fogna/datasets/ompi/SJZ4_HangClip/bad/\")\n",
    "images_list = list(images_path.rglob(\"*.tiff\"))"
   ]
  },
  {
   "cell_type": "code",
   "execution_count": null,
   "metadata": {},
   "outputs": [],
   "source": [
    "test_df = pd.read_csv(\"/path/to/model/determined_lamarr_d66238bc/test.csv\")\n",
    "images_list = test_df.filename.values"
   ]
  },
  {
   "cell_type": "code",
   "execution_count": null,
   "metadata": {},
   "outputs": [],
   "source": [
    "onnx_model_path = \"/path/to/model/determined_lamarr_d66238bc/debug/onnx/determined_lamarr_d66238bc.onnx\"\n",
    "session = rt.InferenceSession(onnx_model_path, providers=[\"CPUExecutionProvider\"])"
   ]
  },
  {
   "cell_type": "code",
   "execution_count": null,
   "metadata": {},
   "outputs": [],
   "source": [
    "output_path = Path(\"./determined_lamarr_d66238bc\")\n",
    "output_path.mkdir(parents=True, exist_ok=True)"
   ]
  },
  {
   "cell_type": "code",
   "execution_count": null,
   "metadata": {},
   "outputs": [],
   "source": [
    "all_max_positions = []\n",
    "elapsed_times = []\n",
    "subs = False\n",
    "input_shape = (224, 224)\n",
    "\n",
    "if subs:\n",
    "    subsample = random.sample(images_list, k=500)\n",
    "    images_list = subsample\n",
    "\n",
    "for ix, img_fn in tqdm(enumerate(images_list)):\n",
    "    img = cv2.imread(str(img_fn), cv2.IMREAD_COLOR)\n",
    "    img = cv2.resize(img, input_shape)\n",
    "\n",
    "    inp = np.array(img, dtype=np.float32)\n",
    "    inputs = {\"inputs\": inp[np.newaxis, ...]}\n",
    "    s = time.time()\n",
    "    outputs = session.run(None, inputs)\n",
    "    e = time.time()\n",
    "    elapsed_times.append(e - s)\n",
    "\n",
    "    pred = \"Good\"\n",
    "    if np.argmax(outputs[0][0]) == 0:\n",
    "        pred = \"Bad\"\n",
    "\n",
    "    heatmap = outputs[1][0, :]\n",
    "    min_h = np.min(heatmap)\n",
    "    max_h = np.max(heatmap)\n",
    "    max_pos = np.where(heatmap == np.amax(heatmap))\n",
    "    max_pos = (max_pos[0][0], max_pos[1][0])\n",
    "    min_pos = np.where(heatmap == np.amin(heatmap))\n",
    "    # print(max_pos)\n",
    "    all_max_positions.append(max_pos)\n",
    "\n",
    "    fig, ax = plt.subplots(1, 2, figsize=(16, 9))\n",
    "    ax[0].imshow(img)\n",
    "    ax[1].imshow(img)\n",
    "    ax[1].imshow(heatmap, cmap=\"jet\", alpha=0.5)\n",
    "    # ax[1].plot(max_pos[1], max_pos[0], marker=\"o\", markersize=20, markerfacecolor=\"green\")\n",
    "    fig.suptitle(\n",
    "        f\"Prediction: {pred}; score: {outputs[0][0]}, min_heatmap: {min_h}, max_heatmap: {max_h}\"\n",
    "    )\n",
    "    fig.savefig(str(output_path / f\"{ix}.png\"))\n",
    "    plt.close()"
   ]
  },
  {
   "cell_type": "code",
   "execution_count": null,
   "metadata": {},
   "outputs": [],
   "source": [
    "print(f\"Mean inference time: {np.mean(elapsed_times)}\")\n",
    "print(f\"Std inference time: {np.std(elapsed_times)}\")"
   ]
  },
  {
   "cell_type": "code",
   "execution_count": null,
   "metadata": {},
   "outputs": [],
   "source": [
    "plt.plot(all_max_positions, \"bo\")"
   ]
  },
  {
   "cell_type": "code",
   "execution_count": null,
   "metadata": {},
   "outputs": [],
   "source": [
    "plt.plot(all_max_positions, \"bo\")"
   ]
  },
  {
   "cell_type": "code",
   "execution_count": null,
   "metadata": {},
   "outputs": [],
   "source": [
    "onnx_model_path2 = (\n",
    "    \"/path/to/model/fervent_brattain_74b0b6c8/onnx/fervent_brattain_74b0b6c8.onnx\"\n",
    ")\n",
    "session2 = rt.InferenceSession(onnx_model_path2, providers=[\"CPUExecutionProvider\"])"
   ]
  },
  {
   "cell_type": "code",
   "execution_count": null,
   "metadata": {},
   "outputs": [],
   "source": [
    "s = time.time()\n",
    "outputs = session2.run(None, inputs)\n",
    "e = time.time()\n",
    "print(e - s)"
   ]
  }
 ],
 "metadata": {
  "kernelspec": {
   "display_name": "fast-tfai-SRYBve37-py3.9",
   "language": "python",
   "name": "python3"
  },
  "language_info": {
   "codemirror_mode": {
    "name": "ipython",
    "version": 3
   },
   "file_extension": ".py",
   "mimetype": "text/x-python",
   "name": "python",
   "nbconvert_exporter": "python",
   "pygments_lexer": "ipython3",
   "version": "3.9.12"
  },
  "vscode": {
   "interpreter": {
    "hash": "dda41536bdf11d970e0ebbbb3ecc38ed7d8f751ba637ba03499ce81090dd9060"
   }
  }
 },
 "nbformat": 4,
 "nbformat_minor": 2
}
