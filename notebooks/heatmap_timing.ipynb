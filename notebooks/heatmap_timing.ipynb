{
 "cells": [
  {
   "cell_type": "code",
   "execution_count": null,
   "metadata": {},
   "outputs": [],
   "source": [
    "import time\n",
    "from pathlib import Path\n",
    "\n",
    "import cv2\n",
    "import matplotlib.pyplot as plt\n",
    "import numpy as np\n",
    "import onnxruntime as rt\n",
    "import pandas as pd"
   ]
  },
  {
   "cell_type": "code",
   "execution_count": null,
   "metadata": {},
   "outputs": [],
   "source": [
    "execution_provider = \"CPUExecutionProvider\"\n",
    "model_name = \"serene_noyce_457a45b8\"\n",
    "base_folder = \"/home/simone/workspace/fogna/outputs/optrel/st4/\"\n",
    "model_folder = base_folder + f\"{model_name}/onnx/{model_name}.onnx\"\n",
    "\n",
    "test_df_file = base_folder + f\"{model_name}/test.csv\"\n",
    "test_df = pd.read_csv(test_df_file)\n",
    "\n",
    "session = rt.InferenceSession(model_folder, providers=[execution_provider])"
   ]
  },
  {
   "cell_type": "code",
   "execution_count": null,
   "metadata": {},
   "outputs": [],
   "source": [
    "output_folder = Path(f\"./outputs/{model_name}\")\n",
    "output_folder.mkdir(exist_ok=True, parents=True)"
   ]
  },
  {
   "cell_type": "code",
   "execution_count": null,
   "metadata": {},
   "outputs": [],
   "source": [
    "for out in session.get_outputs():\n",
    "    print(out)"
   ]
  },
  {
   "cell_type": "code",
   "execution_count": null,
   "metadata": {},
   "outputs": [],
   "source": [
    "def correct_path(p: str):\n",
    "    return p.replace(\n",
    "        \"/home/simone/workspace/anomaly-detection/output/w953/ST4/dataset/\",\n",
    "        \"/home/simone/workspace/fogna/datasets/anomaly_detection/w953/ST4/dataset/\",\n",
    "    )"
   ]
  },
  {
   "cell_type": "code",
   "execution_count": null,
   "metadata": {},
   "outputs": [],
   "source": [
    "test_df[\"filename\"] = test_df[\"filename\"].apply(correct_path)"
   ]
  },
  {
   "cell_type": "code",
   "execution_count": null,
   "metadata": {},
   "outputs": [],
   "source": [
    "test_df.head()"
   ]
  },
  {
   "cell_type": "code",
   "execution_count": null,
   "metadata": {},
   "outputs": [],
   "source": [
    "test_df.tail()"
   ]
  },
  {
   "cell_type": "code",
   "execution_count": null,
   "metadata": {},
   "outputs": [],
   "source": [
    "images_list = list(test_df.filename.values)\n",
    "images_list[-3:-1]"
   ]
  },
  {
   "cell_type": "code",
   "execution_count": null,
   "metadata": {},
   "outputs": [],
   "source": [
    "labels = [\"bad\", \"good\"]\n",
    "i = 13\n",
    "gt = test_df.label.iloc[i]\n",
    "img = cv2.imread(test_df.filename.iloc[i], cv2.IMREAD_COLOR)\n",
    "img = cv2.cvtColor(img, cv2.COLOR_BGR2RGB)\n",
    "img = cv2.resize(img, (224, 224))\n",
    "inp = np.array(img, dtype=np.float32)\n",
    "\n",
    "inputs = {\"inputs\": inp[np.newaxis, ...]}\n",
    "outputs = session.run(None, inputs)\n",
    "pred = labels[np.argmax(outputs[0][0])]\n",
    "# heat = outputs[1][0, :]\n",
    "\n",
    "fig, ax = plt.subplots(1, 2, figsize=(16, 9))\n",
    "ax[0].imshow(img)\n",
    "# ax[1].imshow(img)\n",
    "# ax[1].imshow(heat, cmap=\"jet\", alpha=0.5)\n",
    "fig.suptitle(f\"Prediction: {pred} - Ground Truth: {gt}\")"
   ]
  },
  {
   "cell_type": "code",
   "execution_count": null,
   "metadata": {},
   "outputs": [],
   "source": [
    "labels = [\"bad\", \"good\"]\n",
    "i = 1384\n",
    "gt = test_df.label.iloc[i]\n",
    "img1 = cv2.imread(test_df.filename.iloc[i], cv2.IMREAD_COLOR)\n",
    "img1 = cv2.cvtColor(img1, cv2.COLOR_BGR2RGB)\n",
    "img1 = cv2.resize(img1, (224, 224))\n",
    "img2 = cv2.imread(test_df.filename.iloc[i + 1], cv2.IMREAD_COLOR)\n",
    "img2 = cv2.cvtColor(img2, cv2.COLOR_BGR2RGB)\n",
    "img2 = cv2.resize(img2, (224, 224))\n",
    "inp = np.stack([img1, img2], dtype=np.float32)"
   ]
  },
  {
   "cell_type": "code",
   "execution_count": null,
   "metadata": {},
   "outputs": [],
   "source": [
    "inputs = {\"inputs\": inp}\n",
    "outputs = session.run(None, inputs)"
   ]
  },
  {
   "cell_type": "code",
   "execution_count": null,
   "metadata": {},
   "outputs": [],
   "source": [
    "heat = outputs[1]\n",
    "\n",
    "fig, ax = plt.subplots(2, 2, figsize=(16, 9))\n",
    "ax[0][0].imshow(img1)\n",
    "ax[0][1].imshow(img1)\n",
    "ax[0][1].imshow(heat[0, :], cmap=\"jet\", alpha=0.5)\n",
    "ax[1][0].imshow(img2)\n",
    "ax[1][1].imshow(img2)\n",
    "ax[1][1].imshow(heat[1, :], cmap=\"jet\", alpha=0.5)"
   ]
  },
  {
   "cell_type": "code",
   "execution_count": null,
   "metadata": {},
   "outputs": [],
   "source": [
    "labels = [\"bad\", \"good\"]\n",
    "el_times = []\n",
    "for i in range(len(test_df)):\n",
    "    gt = test_df.label.iloc[i]\n",
    "    img = cv2.imread(test_df.filename.iloc[i], cv2.IMREAD_COLOR)\n",
    "    img = cv2.cvtColor(img, cv2.COLOR_BGR2RGB)\n",
    "    img = cv2.resize(img, (224, 224))\n",
    "    inp = np.array(img, dtype=np.float32)\n",
    "\n",
    "    inputs = {\"inputs\": inp[np.newaxis, ...]}\n",
    "    st = time.time()\n",
    "    outputs = session.run(None, inputs)\n",
    "    el_times.append(time.time() - st)\n",
    "\n",
    "    pred = labels[np.argmax(outputs[0][0])]\n",
    "    heat = outputs[1][0, :]\n",
    "\n",
    "    fig, ax = plt.subplots(1, 2, figsize=(16, 9))\n",
    "    ax[0].imshow(img)\n",
    "    ax[1].imshow(img)\n",
    "    ax[1].imshow(heat, cmap=\"jet\", alpha=0.5)\n",
    "    fig.suptitle(f\"Prediction: {pred} - Ground Truth: {gt}\")\n",
    "    fig.savefig(str(output_folder / Path(test_df.filename.iloc[i]).name))\n",
    "    plt.close()"
   ]
  },
  {
   "cell_type": "code",
   "execution_count": null,
   "metadata": {},
   "outputs": [],
   "source": [
    "print(f\"Mean: {np.mean(el_times)}\")\n",
    "print(f\"Std dev: {np.std(el_times)}\")"
   ]
  },
  {
   "cell_type": "code",
   "execution_count": null,
   "metadata": {},
   "outputs": [],
   "source": [
    "labels = [\"bad\", \"good\"]\n",
    "el_times = []\n",
    "for i in range(len(test_df)):\n",
    "    gt = test_df.label.iloc[i]\n",
    "    img = cv2.imread(test_df.filename.iloc[i], cv2.IMREAD_COLOR)\n",
    "    img = cv2.cvtColor(img, cv2.COLOR_BGR2RGB)\n",
    "    img = cv2.resize(img, (224, 224))\n",
    "    inp = np.array(img, dtype=np.float32)\n",
    "\n",
    "    inputs = {\"inputs\": inp[np.newaxis, ...]}\n",
    "    st = time.time()\n",
    "    outputs = session.run(None, inputs)\n",
    "    el_times.append(time.time() - st)\n",
    "\n",
    "\n",
    "print(f\"Mean: {np.mean(el_times)}\")\n",
    "print(f\"Std dev: {np.std(el_times)}\")"
   ]
  },
  {
   "attachments": {},
   "cell_type": "markdown",
   "metadata": {},
   "source": [
    "# Timing"
   ]
  },
  {
   "cell_type": "code",
   "execution_count": null,
   "metadata": {},
   "outputs": [],
   "source": [
    "model_name = \"fervent_neumann_8847d41e\"\n",
    "test_df_file = f\"/path/to/model/{model_name}/test.csv\"\n",
    "test_df = pd.read_csv(test_df_file)"
   ]
  },
  {
   "attachments": {},
   "cell_type": "markdown",
   "metadata": {},
   "source": [
    "## CPU\n",
    "\n",
    "### No Heatmap"
   ]
  },
  {
   "cell_type": "code",
   "execution_count": null,
   "metadata": {},
   "outputs": [],
   "source": [
    "execution_provider = \"CPUExecutionProvider\"\n",
    "model_folder = f\"/path/to/model/{model_name}/onnx/{model_name}.onnx\"\n",
    "session = rt.InferenceSession(model_folder, providers=[execution_provider])"
   ]
  },
  {
   "cell_type": "code",
   "execution_count": null,
   "metadata": {},
   "outputs": [],
   "source": [
    "labels = [\"bad\", \"good\"]\n",
    "el_times = []\n",
    "for i in range(len(test_df)):\n",
    "    gt = test_df.label.iloc[i]\n",
    "    img = cv2.imread(test_df.filename.iloc[i], cv2.IMREAD_COLOR)\n",
    "    img = cv2.cvtColor(img, cv2.COLOR_BGR2RGB)\n",
    "    img = cv2.resize(img, (224, 224))\n",
    "    inp = np.array(img, dtype=np.float32)\n",
    "\n",
    "    inputs = {\"inputs\": inp[np.newaxis, ...]}\n",
    "    st = time.time()\n",
    "    outputs = session.run(None, inputs)\n",
    "    el_times.append(time.time() - st)\n",
    "\n",
    "\n",
    "print(f\"Mean: {np.mean(el_times)}\")\n",
    "print(f\"Std dev: {np.std(el_times)}\")"
   ]
  },
  {
   "attachments": {},
   "cell_type": "markdown",
   "metadata": {},
   "source": [
    "### Heatmap"
   ]
  },
  {
   "cell_type": "code",
   "execution_count": null,
   "metadata": {},
   "outputs": [],
   "source": [
    "execution_provider = \"CPUExecutionProvider\"\n",
    "model_folder = f\"/path/to/model/{model_name}/debug/onnx/{model_name}.onnx\"\n",
    "session = rt.InferenceSession(model_folder, providers=[execution_provider])"
   ]
  },
  {
   "cell_type": "code",
   "execution_count": null,
   "metadata": {},
   "outputs": [],
   "source": [
    "labels = [\"bad\", \"good\"]\n",
    "el_times = []\n",
    "for i in range(len(test_df)):\n",
    "    gt = test_df.label.iloc[i]\n",
    "    img = cv2.imread(test_df.filename.iloc[i], cv2.IMREAD_COLOR)\n",
    "    img = cv2.cvtColor(img, cv2.COLOR_BGR2RGB)\n",
    "    img = cv2.resize(img, (224, 224))\n",
    "    inp = np.array(img, dtype=np.float32)\n",
    "\n",
    "    inputs = {\"inputs\": inp[np.newaxis, ...]}\n",
    "    st = time.time()\n",
    "    outputs = session.run(None, inputs)\n",
    "    el_times.append(time.time() - st)\n",
    "\n",
    "\n",
    "print(f\"Mean: {np.mean(el_times)}\")\n",
    "print(f\"Std dev: {np.std(el_times)}\")"
   ]
  },
  {
   "attachments": {},
   "cell_type": "markdown",
   "metadata": {},
   "source": [
    "## GPU"
   ]
  },
  {
   "attachments": {},
   "cell_type": "markdown",
   "metadata": {},
   "source": [
    "### No Heatmap"
   ]
  },
  {
   "cell_type": "code",
   "execution_count": null,
   "metadata": {},
   "outputs": [],
   "source": [
    "execution_provider = \"CUDAExecutionProvider\"\n",
    "model_folder = f\"/path/to/model/{model_name}/onnx/{model_name}.onnx\"\n",
    "session = rt.InferenceSession(model_folder, providers=[execution_provider])\n",
    "\n",
    "labels = [\"bad\", \"good\"]\n",
    "el_times = []\n",
    "for i in range(len(test_df)):\n",
    "    gt = test_df.label.iloc[i]\n",
    "    img = cv2.imread(test_df.filename.iloc[i], cv2.IMREAD_COLOR)\n",
    "    img = cv2.cvtColor(img, cv2.COLOR_BGR2RGB)\n",
    "    img = cv2.resize(img, (224, 224))\n",
    "    inp = np.array(img, dtype=np.float32)\n",
    "\n",
    "    inputs = {\"inputs\": inp[np.newaxis, ...]}\n",
    "    st = time.time()\n",
    "    outputs = session.run(None, inputs)\n",
    "    el_times.append(time.time() - st)\n",
    "\n",
    "\n",
    "print(f\"Mean: {np.mean(el_times)}\")\n",
    "print(f\"Std dev: {np.std(el_times)}\")"
   ]
  },
  {
   "attachments": {},
   "cell_type": "markdown",
   "metadata": {},
   "source": [
    "### Heatmap"
   ]
  },
  {
   "cell_type": "code",
   "execution_count": null,
   "metadata": {},
   "outputs": [],
   "source": [
    "execution_provider = \"CUDAExecutionProvider\"\n",
    "model_folder = f\"/path/to/model/{model_name}/debug/onnx/{model_name}.onnx\"\n",
    "session = rt.InferenceSession(model_folder, providers=[execution_provider])\n",
    "\n",
    "labels = [\"bad\", \"good\"]\n",
    "el_times = []\n",
    "for i in range(len(test_df)):\n",
    "    gt = test_df.label.iloc[i]\n",
    "    img = cv2.imread(test_df.filename.iloc[i], cv2.IMREAD_COLOR)\n",
    "    img = cv2.cvtColor(img, cv2.COLOR_BGR2RGB)\n",
    "    img = cv2.resize(img, (224, 224))\n",
    "    inp = np.array(img, dtype=np.float32)\n",
    "\n",
    "    inputs = {\"inputs\": inp[np.newaxis, ...]}\n",
    "    st = time.time()\n",
    "    outputs = session.run(None, inputs)\n",
    "    el_times.append(time.time() - st)\n",
    "\n",
    "\n",
    "print(f\"Mean: {np.mean(el_times)}\")\n",
    "print(f\"Std dev: {np.std(el_times)}\")"
   ]
  },
  {
   "cell_type": "code",
   "execution_count": null,
   "metadata": {},
   "outputs": [],
   "source": [
    "rt.cuda_version"
   ]
  }
 ],
 "metadata": {
  "kernelspec": {
   "display_name": "fast-tfai-SRYBve37-py3.9",
   "language": "python",
   "name": "python3"
  },
  "language_info": {
   "codemirror_mode": {
    "name": "ipython",
    "version": 3
   },
   "file_extension": ".py",
   "mimetype": "text/x-python",
   "name": "python",
   "nbconvert_exporter": "python",
   "pygments_lexer": "ipython3",
   "version": "3.9.12"
  },
  "vscode": {
   "interpreter": {
    "hash": "dda41536bdf11d970e0ebbbb3ecc38ed7d8f751ba637ba03499ce81090dd9060"
   }
  }
 },
 "nbformat": 4,
 "nbformat_minor": 2
}
