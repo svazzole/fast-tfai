{
 "cells": [
  {
   "cell_type": "code",
   "execution_count": null,
   "metadata": {},
   "outputs": [],
   "source": [
    "import tensorflow.keras as tfk"
   ]
  },
  {
   "cell_type": "code",
   "execution_count": null,
   "metadata": {},
   "outputs": [],
   "source": [
    "model_name = \"goofy_agnesi_b7f97de2\"\n",
    "model_path = f\"/home/simone/workspace/fogna/outputs/optrel/st4/{model_name}/keras\"\n",
    "\n",
    "model = tfk.models.load_model(model_path)"
   ]
  },
  {
   "cell_type": "code",
   "execution_count": null,
   "metadata": {},
   "outputs": [],
   "source": [
    "model.summary()"
   ]
  },
  {
   "cell_type": "code",
   "execution_count": null,
   "metadata": {},
   "outputs": [],
   "source": [
    "dense = model.get_layer(\"densenet121\")"
   ]
  },
  {
   "cell_type": "code",
   "execution_count": null,
   "metadata": {},
   "outputs": [],
   "source": [
    "output_file = model_path + \"/backbone_weights.h5\"\n",
    "\n",
    "dense.save_weights(output_file)"
   ]
  },
  {
   "cell_type": "code",
   "execution_count": null,
   "metadata": {},
   "outputs": [],
   "source": [
    "backbone = tfk.applications.DenseNet121(\n",
    "    input_shape=(224, 224, 3), weights=output_file, include_top=False, pooling=\"avg\"\n",
    ")"
   ]
  }
 ],
 "metadata": {
  "kernelspec": {
   "display_name": "fast-tfai-SRYBve37-py3.9",
   "language": "python",
   "name": "python3"
  },
  "language_info": {
   "codemirror_mode": {
    "name": "ipython",
    "version": 3
   },
   "file_extension": ".py",
   "mimetype": "text/x-python",
   "name": "python",
   "nbconvert_exporter": "python",
   "pygments_lexer": "ipython3",
   "version": "3.9.12"
  },
  "vscode": {
   "interpreter": {
    "hash": "dda41536bdf11d970e0ebbbb3ecc38ed7d8f751ba637ba03499ce81090dd9060"
   }
  }
 },
 "nbformat": 4,
 "nbformat_minor": 2
}
