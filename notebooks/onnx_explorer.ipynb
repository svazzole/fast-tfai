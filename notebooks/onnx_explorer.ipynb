{
 "cells": [
  {
   "cell_type": "code",
   "execution_count": null,
   "metadata": {},
   "outputs": [],
   "source": [
    "from pathlib import Path\n",
    "\n",
    "import cv2\n",
    "import matplotlib.pyplot as plt\n",
    "import numpy as np\n",
    "import onnxruntime as rt\n",
    "import tensorflow as tf"
   ]
  },
  {
   "cell_type": "code",
   "execution_count": null,
   "metadata": {},
   "outputs": [],
   "source": [
    "model_path = Path(\n",
    "    \"/path/to/model/suspicious_davinci_0a6593ee/onnx/suspicious_davinci_0a6593ee.onnx\"\n",
    ")"
   ]
  },
  {
   "cell_type": "code",
   "execution_count": null,
   "metadata": {},
   "outputs": [],
   "source": [
    "session = rt.InferenceSession(str(model_path), providers=[\"CPUExecutionProvider\"])"
   ]
  },
  {
   "cell_type": "code",
   "execution_count": null,
   "metadata": {},
   "outputs": [],
   "source": [
    "for ix, i in enumerate(session.get_inputs()):\n",
    "    print(f\"input {ix}: {i}\")\n",
    "\n",
    "for ix, i in enumerate(session.get_outputs()):\n",
    "    print(f\"output {ix}: {i}\")"
   ]
  },
  {
   "attachments": {},
   "cell_type": "markdown",
   "metadata": {},
   "source": [
    "# Keras Model"
   ]
  },
  {
   "cell_type": "code",
   "execution_count": null,
   "metadata": {},
   "outputs": [],
   "source": [
    "model = tf.keras.models.load_model(\"/path/to/model/cranky_mahavira_ba989e30/keras/\")\n",
    "model.summary()"
   ]
  },
  {
   "cell_type": "code",
   "execution_count": null,
   "metadata": {},
   "outputs": [],
   "source": [
    "img = cv2.imread(\n",
    "    \"../image.png\",\n",
    "    cv2.IMREAD_COLOR,\n",
    ")\n",
    "img = cv2.resize(img, (224, 224))"
   ]
  },
  {
   "cell_type": "code",
   "execution_count": null,
   "metadata": {},
   "outputs": [],
   "source": [
    "pred = model.predict(img[np.newaxis, :, :, :])\n",
    "pred_class = np.argmax(pred[0])\n",
    "weights = model.layers[-1].get_weights()[0]\n",
    "class_weights = weights[:, pred_class]"
   ]
  },
  {
   "cell_type": "code",
   "execution_count": null,
   "metadata": {},
   "outputs": [],
   "source": [
    "pred_class_tf = tf.math.argmax(pred[0])"
   ]
  },
  {
   "cell_type": "code",
   "execution_count": null,
   "metadata": {},
   "outputs": [],
   "source": [
    "pred_class_tf.shape"
   ]
  },
  {
   "cell_type": "code",
   "execution_count": null,
   "metadata": {},
   "outputs": [],
   "source": [
    "first_layer = model.layers[2].get_input_at(0)\n",
    "last_conv_layer = model.layers[-2].layers[-2].get_output_at(0)"
   ]
  },
  {
   "cell_type": "code",
   "execution_count": null,
   "metadata": {},
   "outputs": [],
   "source": [
    "backbone = model.layers[-2]"
   ]
  },
  {
   "cell_type": "code",
   "execution_count": null,
   "metadata": {},
   "outputs": [],
   "source": [
    "model.input"
   ]
  },
  {
   "cell_type": "code",
   "execution_count": null,
   "metadata": {},
   "outputs": [],
   "source": [
    "model.inputs"
   ]
  },
  {
   "cell_type": "code",
   "execution_count": null,
   "metadata": {},
   "outputs": [],
   "source": [
    "tf.keras.utils.plot_model(\n",
    "    model, to_file=\"model.png\", show_shapes=True, show_dtype=True, expand_nested=True\n",
    ")"
   ]
  },
  {
   "cell_type": "code",
   "execution_count": null,
   "metadata": {},
   "outputs": [],
   "source": [
    "model.layers"
   ]
  },
  {
   "cell_type": "code",
   "execution_count": null,
   "metadata": {},
   "outputs": [],
   "source": [
    "backbone_conv_model = tf.keras.Model(\n",
    "    inputs=model.layers[1].input, outputs=[last_conv_layer]\n",
    ")"
   ]
  },
  {
   "cell_type": "code",
   "execution_count": null,
   "metadata": {},
   "outputs": [],
   "source": [
    "new_inputs = tf.keras.layers.Input(shape=model.input.shape[1:])\n",
    "\n",
    "x = backbone_conv_model(new_inputs)\n",
    "new_model = tf.keras.Model(inputs=new_inputs, outputs=[x], name=\"castrato\")"
   ]
  },
  {
   "cell_type": "code",
   "execution_count": null,
   "metadata": {},
   "outputs": [],
   "source": [
    "out = new_model(img[np.newaxis, ...])"
   ]
  },
  {
   "cell_type": "code",
   "execution_count": null,
   "metadata": {},
   "outputs": [],
   "source": [
    "out"
   ]
  },
  {
   "cell_type": "code",
   "execution_count": null,
   "metadata": {},
   "outputs": [],
   "source": [
    "out[0].shape"
   ]
  },
  {
   "cell_type": "code",
   "execution_count": null,
   "metadata": {},
   "outputs": [],
   "source": [
    "class_weights.reshape((1, 1, -1)).shape"
   ]
  },
  {
   "cell_type": "code",
   "execution_count": null,
   "metadata": {},
   "outputs": [],
   "source": [
    "heatmaps = tf.image.resize(out[0], [224, 224], method=\"bilinear\")\n",
    "\n",
    "output = tf.tensordot(heatmaps, class_weights, axes=((2,), (0,)))"
   ]
  },
  {
   "cell_type": "code",
   "execution_count": null,
   "metadata": {},
   "outputs": [],
   "source": [
    "output.shape"
   ]
  },
  {
   "cell_type": "code",
   "execution_count": null,
   "metadata": {},
   "outputs": [],
   "source": [
    "plt.imshow(img)"
   ]
  },
  {
   "cell_type": "code",
   "execution_count": null,
   "metadata": {},
   "outputs": [],
   "source": [
    "plt.imshow(output)"
   ]
  },
  {
   "cell_type": "code",
   "execution_count": null,
   "metadata": {},
   "outputs": [],
   "source": [
    "new_new_inp = tf.keras.layers.Input(shape=model.input.shape[1:])\n",
    "pred = model(new_new_inp)\n",
    "pred2 = new_model(new_new_inp)\n",
    "pred_class = tf.math.argmax(pred, axis=1)\n",
    "print(pred_class.shape)\n",
    "print(pred_class)\n",
    "weights = model.layers[-1].get_weights()[0]\n",
    "print(weights.shape)\n",
    "class_weights = tf.gather(weights, pred_class, axis=1)\n",
    "print(class_weights.shape)\n",
    "\n",
    "heatmaps = tf.image.resize(pred2, [224, 224], method=\"bilinear\")\n",
    "\n",
    "print(heatmaps.shape)\n",
    "\n",
    "output = tf.tensordot(heatmaps, class_weights, axes=((3,), (0,)))\n",
    "\n",
    "model_with_heatmap = tf.keras.Model(new_new_inp, [pred, output])"
   ]
  },
  {
   "cell_type": "code",
   "execution_count": null,
   "metadata": {},
   "outputs": [],
   "source": [
    "pred_class"
   ]
  },
  {
   "cell_type": "code",
   "execution_count": null,
   "metadata": {},
   "outputs": [],
   "source": [
    "def attach_heatmap(model):\n",
    "    last_conv_layer = model.layers[-2].layers[-2].get_output_at(0)\n",
    "    weights = model.layers[-1].get_weights()[0]\n",
    "\n",
    "    backbone_conv_model = tf.keras.Model(\n",
    "        inputs=model.layers[1].input, outputs=[last_conv_layer]\n",
    "    )\n",
    "\n",
    "    new_inputs = tf.keras.layers.Input(shape=model.input.shape[1:])\n",
    "    conv_layer = backbone_conv_model(new_inputs)\n",
    "    new_model = tf.keras.Model(inputs=new_inputs, outputs=[conv_layer], name=\"castrato\")\n",
    "\n",
    "    new_input = tf.keras.layers.Input(shape=model.input.shape[1:])\n",
    "    pred = model(new_input)\n",
    "    conv = new_model(new_input)\n",
    "    pred_class = tf.math.argmax(pred, axis=1)\n",
    "    class_weights = tf.gather(weights, pred_class, axis=1)\n",
    "\n",
    "    heatmaps = tf.image.resize(conv, [224, 224], method=\"bilinear\")\n",
    "\n",
    "    output = tf.tensordot(heatmaps, class_weights, axes=((3,), (0,)))\n",
    "\n",
    "    return tf.keras.Model(new_input, [pred, output])"
   ]
  },
  {
   "cell_type": "code",
   "execution_count": null,
   "metadata": {},
   "outputs": [],
   "source": [
    "final_model = attach_heatmap(model)"
   ]
  },
  {
   "cell_type": "code",
   "execution_count": null,
   "metadata": {},
   "outputs": [],
   "source": [
    "heat = model_with_heatmap(img[np.newaxis, ...])"
   ]
  },
  {
   "cell_type": "code",
   "execution_count": null,
   "metadata": {},
   "outputs": [],
   "source": [
    "heat"
   ]
  },
  {
   "cell_type": "code",
   "execution_count": null,
   "metadata": {},
   "outputs": [],
   "source": [
    "heat = final_model(img[np.newaxis, ...])"
   ]
  },
  {
   "cell_type": "code",
   "execution_count": null,
   "metadata": {},
   "outputs": [],
   "source": [
    "plt.imshow(heat[1][0, ...])"
   ]
  },
  {
   "cell_type": "code",
   "execution_count": null,
   "metadata": {},
   "outputs": [],
   "source": [
    "test_out = model_with_heatmap(np.zeros((10, 224, 224, 3)))"
   ]
  },
  {
   "cell_type": "code",
   "execution_count": null,
   "metadata": {},
   "outputs": [],
   "source": [
    "test_out"
   ]
  },
  {
   "cell_type": "code",
   "execution_count": null,
   "metadata": {},
   "outputs": [],
   "source": [
    "heat"
   ]
  },
  {
   "cell_type": "code",
   "execution_count": null,
   "metadata": {},
   "outputs": [],
   "source": [
    "heat.shape"
   ]
  },
  {
   "cell_type": "code",
   "execution_count": null,
   "metadata": {},
   "outputs": [],
   "source": [
    "plt.imshow(heat)"
   ]
  }
 ],
 "metadata": {
  "kernelspec": {
   "display_name": "fast-tfai-SRYBve37-py3.9",
   "language": "python",
   "name": "python3"
  },
  "language_info": {
   "codemirror_mode": {
    "name": "ipython",
    "version": 3
   },
   "file_extension": ".py",
   "mimetype": "text/x-python",
   "name": "python",
   "nbconvert_exporter": "python",
   "pygments_lexer": "ipython3",
   "version": "3.9.12"
  },
  "vscode": {
   "interpreter": {
    "hash": "dda41536bdf11d970e0ebbbb3ecc38ed7d8f751ba637ba03499ce81090dd9060"
   }
  }
 },
 "nbformat": 4,
 "nbformat_minor": 2
}
