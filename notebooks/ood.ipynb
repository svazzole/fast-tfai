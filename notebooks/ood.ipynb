{
 "cells": [
  {
   "cell_type": "code",
   "execution_count": null,
   "metadata": {},
   "outputs": [],
   "source": [
    "import time\n",
    "from collections import Counter\n",
    "\n",
    "import cv2\n",
    "import matplotlib.pyplot as plt\n",
    "import numpy as np\n",
    "import onnx\n",
    "import onnxruntime as rt\n",
    "import pandas as pd\n",
    "from skl2onnx import to_onnx\n",
    "from sklearn.neighbors import LocalOutlierFactor"
   ]
  },
  {
   "cell_type": "code",
   "execution_count": null,
   "metadata": {},
   "outputs": [],
   "source": [
    "def print_inputs_outputs(session):\n",
    "    for inp in session.get_inputs():\n",
    "        print(\"INPUT:\", inp)\n",
    "\n",
    "    for out in session.get_outputs():\n",
    "        print(\"OUTPUT:\", out)"
   ]
  },
  {
   "cell_type": "code",
   "execution_count": null,
   "metadata": {},
   "outputs": [],
   "source": [
    "model_folder = (\n",
    "    \"/path/to/model/youthful_mestorf_70e4c1e0/debug/onnx/youthful_mestorf_70e4c1e0.onnx\"\n",
    ")\n",
    "\n",
    "out_model_path = \"./youthful_mestorf_70e4c1e0_heatmap_ood.onnx\"\n",
    "\n",
    "train_df_file = \"/path/to/model/youthful_mestorf_70e4c1e0/train.csv\"\n",
    "val_df_file = \"/path/to/model/youthful_mestorf_70e4c1e0/val.csv\"\n",
    "test_df_file = \"/path/to/model/youthful_mestorf_70e4c1e0/test.csv\"\n",
    "\n",
    "train_df = pd.read_csv(train_df_file)\n",
    "val_df = pd.read_csv(val_df_file)\n",
    "test_df = pd.read_csv(test_df_file)"
   ]
  },
  {
   "cell_type": "code",
   "execution_count": null,
   "metadata": {},
   "outputs": [],
   "source": [
    "model = onnx.load(model_folder)\n",
    "intermediate_tensor_name = (\n",
    "    \"model_1/youthful_mestorf_70e4c1e0/MobilenetV3small/avg_pool/Mean:0\"\n",
    ")\n",
    "intermediate_layer_value_info = onnx.helper.ValueInfoProto()\n",
    "intermediate_layer_value_info.name = intermediate_tensor_name\n",
    "model.graph.output.extend([intermediate_layer_value_info])\n",
    "onnx.save(model, \"./gap.onnx\")"
   ]
  },
  {
   "cell_type": "code",
   "execution_count": null,
   "metadata": {},
   "outputs": [],
   "source": [
    "execution_provider = \"CPUExecutionProvider\"\n",
    "\n",
    "gap_session = rt.InferenceSession(\"./gap.onnx\", providers=[execution_provider])\n",
    "print_inputs_outputs(gap_session)"
   ]
  },
  {
   "cell_type": "code",
   "execution_count": null,
   "metadata": {},
   "outputs": [],
   "source": [
    "X_train = np.zeros((len(train_df), 576), dtype=np.float32)\n",
    "\n",
    "for ix, img_fn in enumerate(train_df.filename.values):\n",
    "    img = cv2.imread(img_fn, cv2.IMREAD_COLOR)\n",
    "    img = cv2.cvtColor(img, cv2.COLOR_BGR2RGB)\n",
    "    img = cv2.resize(img, (224, 224))\n",
    "\n",
    "    img = np.array(np.expand_dims(img, axis=0), dtype=np.float32)\n",
    "    outputs = gap_session.run(None, {\"inputs\": img})\n",
    "\n",
    "    X_train[ix, :] = outputs[2][0, :, 0, 0]"
   ]
  },
  {
   "cell_type": "code",
   "execution_count": null,
   "metadata": {},
   "outputs": [],
   "source": [
    "lof = LocalOutlierFactor(novelty=True)\n",
    "lof.fit(X_train)"
   ]
  },
  {
   "cell_type": "code",
   "execution_count": null,
   "metadata": {},
   "outputs": [],
   "source": [
    "lof_results = []\n",
    "\n",
    "for ix, img_fn in enumerate(test_df.filename.values):\n",
    "    img = cv2.imread(img_fn, cv2.IMREAD_COLOR)\n",
    "    img = cv2.cvtColor(img, cv2.COLOR_BGR2RGB)\n",
    "    img = cv2.resize(img, (224, 224))\n",
    "\n",
    "    img = np.array(np.expand_dims(img, axis=0), dtype=np.float32)\n",
    "    outputs = gap_session.run(None, {\"inputs\": img})\n",
    "\n",
    "    feat_vec = outputs[2][0, :, 0, 0]\n",
    "    pred = lof.predict(feat_vec.reshape(1, -1))[0]\n",
    "    lof_results.append(pred)"
   ]
  },
  {
   "cell_type": "code",
   "execution_count": null,
   "metadata": {},
   "outputs": [],
   "source": [
    "cnt = Counter(lof_results)\n",
    "print(cnt)"
   ]
  },
  {
   "cell_type": "code",
   "execution_count": null,
   "metadata": {},
   "outputs": [],
   "source": [
    "ix = np.argwhere(np.array(lof_results) == -1).flatten()\n",
    "ood = test_df.iloc[ix].copy()"
   ]
  },
  {
   "cell_type": "code",
   "execution_count": null,
   "metadata": {},
   "outputs": [],
   "source": [
    "new_img = cv2.imread(ood[\"filename\"].iloc[1], cv2.IMREAD_COLOR)\n",
    "new_img = cv2.cvtColor(new_img, cv2.COLOR_BGR2RGB)\n",
    "new_img = cv2.resize(new_img, (224, 224))\n",
    "\n",
    "plt.imshow(new_img)"
   ]
  },
  {
   "cell_type": "code",
   "execution_count": null,
   "metadata": {},
   "outputs": [],
   "source": [
    "new_img = cv2.imread(\n",
    "    \"./image.png,\n",
    "    cv2.IMREAD_COLOR,\n",
    ")\n",
    "new_img = cv2.cvtColor(new_img, cv2.COLOR_BGR2RGB)\n",
    "new_img = cv2.resize(new_img, (224, 224))\n",
    "\n",
    "img = np.array(np.expand_dims(new_img, axis=0), dtype=np.float32)\n",
    "outputs = gap_session.run(None, {\"inputs\": img})\n",
    "\n",
    "feat_vec = outputs[2][0, :, 0, 0]\n",
    "pred = lof.predict(feat_vec.reshape(1, -1))[0]\n",
    "print(pred)\n",
    "\n",
    "plt.imshow(new_img)"
   ]
  },
  {
   "cell_type": "code",
   "execution_count": null,
   "metadata": {},
   "outputs": [],
   "source": [
    "lof_onnx = to_onnx(lof, X_train[:1].astype(np.float32), target_opset=13)"
   ]
  },
  {
   "cell_type": "code",
   "execution_count": null,
   "metadata": {},
   "outputs": [],
   "source": [
    "# lof_sess = rt.InferenceSession(lof_onnx.SerializeToString(), providers=[\"CPUExecutionProvider\"])\n",
    "# print_inputs_outputs(lof_sess)"
   ]
  },
  {
   "cell_type": "code",
   "execution_count": null,
   "metadata": {},
   "outputs": [],
   "source": [
    "cnst = np.array([2, 3]).astype(np.int64)\n",
    "node_cnst = onnx.helper.make_node(\n",
    "    \"Constant\",\n",
    "    inputs=[],\n",
    "    outputs=[\"axes\"],\n",
    "    value=onnx.helper.make_tensor(\n",
    "        name=\"axes\",\n",
    "        data_type=onnx.mapping.NP_TYPE_TO_TENSOR_TYPE[cnst.dtype],\n",
    "        dims=cnst.shape,\n",
    "        vals=cnst,\n",
    "    ),\n",
    ")\n",
    "\n",
    "input_reshape = onnx.helper.make_node(\n",
    "    \"Squeeze\",\n",
    "    inputs=[\"x\", \"axes\"],\n",
    "    outputs=[\"y\"],\n",
    ")"
   ]
  },
  {
   "cell_type": "code",
   "execution_count": null,
   "metadata": {},
   "outputs": [],
   "source": [
    "x = onnx.helper.make_tensor_value_info(\"x\", onnx.TensorProto.FLOAT, [None, 576, 1, 1])\n",
    "y = onnx.helper.make_tensor_value_info(\"y\", onnx.TensorProto.FLOAT, [None, 576])"
   ]
  },
  {
   "cell_type": "code",
   "execution_count": null,
   "metadata": {},
   "outputs": [],
   "source": [
    "graph = onnx.helper.make_graph(\n",
    "    [node_cnst, input_reshape],  # nodes\n",
    "    \"reshape_input\",  # a name\n",
    "    inputs=[x],\n",
    "    outputs=[y],\n",
    ")"
   ]
  },
  {
   "cell_type": "code",
   "execution_count": null,
   "metadata": {},
   "outputs": [],
   "source": [
    "reshape_model = onnx.helper.make_model(\n",
    "    graph, opset_imports=[onnx.helper.make_operatorsetid(\"\", 13)]\n",
    ")\n",
    "onnx.checker.check_model(reshape_model)"
   ]
  },
  {
   "cell_type": "code",
   "execution_count": null,
   "metadata": {},
   "outputs": [],
   "source": [
    "reshape_model.ir_version = 7"
   ]
  },
  {
   "cell_type": "code",
   "execution_count": null,
   "metadata": {},
   "outputs": [],
   "source": [
    "lof_reshaped_model = onnx.compose.merge_models(\n",
    "    reshape_model, lof_onnx, io_map=[(\"y\", \"X\")], outputs=[\"label\", \"scores\"]\n",
    ")\n",
    "\n",
    "# onnx.save_model(lof_reshaped_model, \"./lof_reshaped.onnx\")"
   ]
  },
  {
   "cell_type": "code",
   "execution_count": null,
   "metadata": {},
   "outputs": [],
   "source": [
    "# lof_reshaped_sess = rt.InferenceSession(\"./lof_reshaped.onnx\", providers=[\"CPUExecutionProvider\"])\n",
    "# print_inputs_outputs(lof_reshaped_sess)"
   ]
  },
  {
   "cell_type": "code",
   "execution_count": null,
   "metadata": {},
   "outputs": [],
   "source": [
    "combined_model = onnx.compose.merge_models(\n",
    "    model,\n",
    "    lof_reshaped_model,\n",
    "    io_map=[\n",
    "        (\"model_1/youthful_mestorf_70e4c1e0/MobilenetV3small/avg_pool/Mean:0\", \"x\")\n",
    "    ],\n",
    "    outputs=[\"youthful_mestorf_70e4c1e0\", \"tf.image.resize\", \"label\", \"scores\"],\n",
    ")"
   ]
  },
  {
   "cell_type": "code",
   "execution_count": null,
   "metadata": {},
   "outputs": [],
   "source": [
    "onnx.checker.check_model(combined_model)\n",
    "onnx.save_model(combined_model, out_model_path)"
   ]
  },
  {
   "cell_type": "code",
   "execution_count": null,
   "metadata": {},
   "outputs": [],
   "source": [
    "comb_sess = rt.InferenceSession(out_model_path, providers=[\"CPUExecutionProvider\"])\n",
    "\n",
    "print_inputs_outputs(comb_sess)"
   ]
  },
  {
   "cell_type": "code",
   "execution_count": null,
   "metadata": {},
   "outputs": [],
   "source": [
    "new_img = cv2.imread(ood[\"filename\"].iloc[4], cv2.IMREAD_COLOR)\n",
    "new_img = cv2.cvtColor(new_img, cv2.COLOR_BGR2RGB)\n",
    "new_img = cv2.resize(new_img, (224, 224))\n",
    "\n",
    "img = np.array(np.expand_dims(new_img, axis=0), dtype=np.float32)\n",
    "st = time.time()\n",
    "outputs = comb_sess.run(None, {\"inputs\": img})\n",
    "\n",
    "print(\"Prediction time:\", time.time() - st)\n",
    "print(\"Label:\", outputs[2][0])\n",
    "print(\"Score:\", outputs[3][0])\n",
    "\n",
    "plt.imshow(new_img)"
   ]
  },
  {
   "cell_type": "code",
   "execution_count": null,
   "metadata": {},
   "outputs": [],
   "source": [
    "new_img2 = new_img.copy()\n",
    "new_img2[:, 75:100, :] = np.ones((224, 25, 3)) * 255\n",
    "\n",
    "img = np.array(np.expand_dims(new_img2, axis=0), dtype=np.float32)\n",
    "st = time.time()\n",
    "outputs = comb_sess.run(None, {\"inputs\": img})\n",
    "\n",
    "print(\"Prediction time:\", time.time() - st)\n",
    "print(\"Label:\", outputs[2][0])\n",
    "print(\"Score:\", outputs[3][0])\n",
    "\n",
    "plt.imshow(new_img2)"
   ]
  },
  {
   "cell_type": "code",
   "execution_count": null,
   "metadata": {},
   "outputs": [],
   "source": [
    "test_imgs = np.zeros((5, 224, 224), dtype=np.int32)\n",
    "heatmaps = np.zeros((5, 224, 224), dtype=np.float32)\n",
    "labels, scores = [], []\n",
    "pred = []\n",
    "\n",
    "for i in range(5):\n",
    "    new_img = cv2.imread(ood[\"filename\"].iloc[i], cv2.IMREAD_COLOR)\n",
    "    new_img = cv2.cvtColor(new_img, cv2.COLOR_BGR2RGB)\n",
    "    new_img = cv2.resize(new_img, (224, 224))\n",
    "    test_imgs[i, :] = cv2.cvtColor(new_img, cv2.COLOR_RGB2GRAY)\n",
    "    img = np.array(np.expand_dims(new_img, axis=0), dtype=np.float32)\n",
    "    outputs = comb_sess.run(None, {\"inputs\": img})\n",
    "    heatmaps[i, :] = outputs[1][0, :, :, 0]\n",
    "\n",
    "    pred.append(outputs[0][0])\n",
    "    labels.append(outputs[2][0])\n",
    "    scores.append(outputs[3][0])"
   ]
  },
  {
   "cell_type": "code",
   "execution_count": null,
   "metadata": {},
   "outputs": [],
   "source": [
    "fig, axs = plt.subplots(2, 2, figsize=(16, 16))\n",
    "fig.suptitle(\"Results 1\")\n",
    "axs[0][0].imshow(test_imgs[0, :])\n",
    "axs[0][0].set_title(f\"Label: {labels[0][0]}; Score:{scores[0][0]}\")\n",
    "axs[0][1].imshow(test_imgs[0, :])\n",
    "axs[0][1].imshow(heatmaps[0, :], alpha=0.5, cmap=\"jet\")\n",
    "axs[0][1].set_title(f\"Pred: {pred[0]}\")\n",
    "\n",
    "axs[1][0].imshow(test_imgs[1, :])\n",
    "axs[1][0].set_title(f\"Label: {labels[1][0]}; Score:{scores[1][0]}\")\n",
    "axs[1][1].imshow(test_imgs[1, :])\n",
    "axs[1][1].imshow(heatmaps[1, :], alpha=0.5, cmap=\"jet\")\n",
    "axs[1][1].set_title(f\"Pred: {pred[1]}\")"
   ]
  },
  {
   "cell_type": "code",
   "execution_count": null,
   "metadata": {},
   "outputs": [],
   "source": [
    "fig, axs = plt.subplots(3, 2, figsize=(20, 20))\n",
    "fig.suptitle(\"Results 2\")\n",
    "\n",
    "axs[0][0].imshow(test_imgs[2, :])\n",
    "axs[0][0].set_title(f\"Label: {labels[2][0]}; Score:{scores[2][0]}\")\n",
    "axs[0][1].imshow(test_imgs[2, :])\n",
    "axs[0][1].imshow(heatmaps[2, :], alpha=0.5, cmap=\"jet\")\n",
    "axs[0][1].set_title(f\"Pred: {pred[2]}\")\n",
    "\n",
    "axs[1][0].imshow(test_imgs[3, :])\n",
    "axs[1][0].set_title(f\"Label: {labels[3][0]}; Score:{scores[3][0]}\")\n",
    "axs[1][1].imshow(test_imgs[3, :])\n",
    "axs[1][1].imshow(heatmaps[3, :], alpha=0.5, cmap=\"jet\")\n",
    "axs[1][1].set_title(f\"Pred: {pred[3]}\")\n",
    "\n",
    "axs[2][0].imshow(test_imgs[4, :])\n",
    "axs[2][0].set_title(f\"Label: {labels[4][0]}; Score:{scores[4][0]}\")\n",
    "axs[2][1].imshow(test_imgs[4, :])\n",
    "axs[2][1].imshow(heatmaps[4, :], alpha=0.5, cmap=\"jet\")\n",
    "axs[2][1].set_title(f\"Pred: {pred[4]}\")"
   ]
  },
  {
   "attachments": {},
   "cell_type": "markdown",
   "metadata": {},
   "source": [
    "# Timing"
   ]
  },
  {
   "cell_type": "code",
   "execution_count": null,
   "metadata": {},
   "outputs": [],
   "source": [
    "el_times = []\n",
    "\n",
    "for ix, img_fn in enumerate(test_df.filename.values):\n",
    "    img = cv2.imread(img_fn, cv2.IMREAD_COLOR)\n",
    "    img = cv2.cvtColor(img, cv2.COLOR_BGR2RGB)\n",
    "    img = cv2.resize(img, (224, 224))\n",
    "    img = np.array(np.expand_dims(img, axis=0), dtype=np.float32)\n",
    "\n",
    "    st = time.time()\n",
    "    outputs = comb_sess.run(None, {\"inputs\": img})\n",
    "    el_times.append(time.time() - st)\n",
    "\n",
    "print(\"Mean prediction time on CPU:\", np.mean(el_times))\n",
    "print(\"Std prediction time on CPU:\", np.std(el_times))"
   ]
  },
  {
   "cell_type": "code",
   "execution_count": null,
   "metadata": {},
   "outputs": [],
   "source": [
    "comb_sess = rt.InferenceSession(out_model_path, providers=[\"CUDAExecutionProvider\"])\n",
    "print_inputs_outputs(comb_sess)\n",
    "\n",
    "el_times = []\n",
    "\n",
    "for ix, img_fn in enumerate(test_df.filename.values):\n",
    "    img = cv2.imread(img_fn, cv2.IMREAD_COLOR)\n",
    "    img = cv2.cvtColor(img, cv2.COLOR_BGR2RGB)\n",
    "    img = cv2.resize(img, (224, 224))\n",
    "    img = np.array(np.expand_dims(img, axis=0), dtype=np.float32)\n",
    "\n",
    "    st = time.time()\n",
    "    outputs = comb_sess.run(None, {\"inputs\": img})\n",
    "    el_times.append(time.time() - st)\n",
    "\n",
    "print(\"Mean prediction time on GPU:\", np.mean(el_times))\n",
    "print(\"Std prediction time on GPU:\", np.std(el_times))"
   ]
  },
  {
   "attachments": {},
   "cell_type": "markdown",
   "metadata": {},
   "source": [
    "# END"
   ]
  },
  {
   "cell_type": "code",
   "execution_count": null,
   "metadata": {},
   "outputs": [],
   "source": [
    "ad_sess = rt.InferenceSession(\n",
    "    \"/home/simone/workspace/anomaly-detection/output/flange/padim_keras/model.onnx\",\n",
    "    providers=[\"CPUExecutionProvider\"],\n",
    ")\n",
    "\n",
    "print_inputs_outputs(ad_sess)"
   ]
  },
  {
   "cell_type": "code",
   "execution_count": null,
   "metadata": {},
   "outputs": [],
   "source": [
    "el_times = []\n",
    "for i in range(100):\n",
    "    st = time.time()\n",
    "    img = np.reshape(\n",
    "        np.random.uniform(low=0, high=255, size=224 * 224 * 3), (1, 224, 224, 3)\n",
    "    )\n",
    "    outputs = ad_sess.run(None, {\"inputs\": np.array(img, dtype=np.float32)})\n",
    "\n",
    "    el_times.append(time.time() - st)\n",
    "\n",
    "print(np.mean(el_times))\n",
    "print(np.std(el_times))"
   ]
  }
 ],
 "metadata": {
  "kernelspec": {
   "display_name": "fast-tfai-SRYBve37-py3.9",
   "language": "python",
   "name": "python3"
  },
  "language_info": {
   "codemirror_mode": {
    "name": "ipython",
    "version": 3
   },
   "file_extension": ".py",
   "mimetype": "text/x-python",
   "name": "python",
   "nbconvert_exporter": "python",
   "pygments_lexer": "ipython3",
   "version": "3.9.12"
  },
  "vscode": {
   "interpreter": {
    "hash": "dda41536bdf11d970e0ebbbb3ecc38ed7d8f751ba637ba03499ce81090dd9060"
   }
  }
 },
 "nbformat": 4,
 "nbformat_minor": 2
}
