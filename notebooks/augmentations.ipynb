{
 "cells": [
  {
   "cell_type": "code",
   "execution_count": null,
   "metadata": {},
   "outputs": [],
   "source": [
    "from pathlib import Path\n",
    "\n",
    "import albumentations as A\n",
    "import yaml"
   ]
  },
  {
   "cell_type": "code",
   "execution_count": null,
   "metadata": {},
   "outputs": [],
   "source": [
    "def build_transform(aug_cfg: dict):\n",
    "    aug_list = []\n",
    "    aug_map = {\n",
    "        \"RandomRotate90\": A.RandomRotate90,\n",
    "        \"ColorJitter\": A.ColorJitter,\n",
    "        \"RandomBrightnessContrast\": A.RandomBrightnessContrast,\n",
    "        \"ImageCompression\": A.ImageCompression,\n",
    "        \"ISONoise\": A.ISONoise,\n",
    "        \"PixelDropout\": A.PixelDropout,\n",
    "        \"HorizontalFlip\": A.HorizontalFlip,\n",
    "        \"VerticalFlip\": A.VerticalFlip,\n",
    "        \"SafeRotate\": A.SafeRotate,\n",
    "        \"Affine\": A.Affine,\n",
    "        \"CropAndPad\": A.CropAndPad,\n",
    "    }\n",
    "\n",
    "    for k, v in aug_cfg.items():\n",
    "        v = {} if v is None else v\n",
    "        aug_list.append(aug_map[k](**v))\n",
    "\n",
    "    transform = A.Compose([A.OneOf(aug_list, p=1)])\n",
    "    return transform"
   ]
  },
  {
   "cell_type": "code",
   "execution_count": null,
   "metadata": {},
   "outputs": [],
   "source": [
    "yaml_file = \"/path/to/dataset/docker_agt_st0.yaml\"\n",
    "cfg = yaml.safe_load(Path(yaml_file).read_text())"
   ]
  },
  {
   "cell_type": "code",
   "execution_count": null,
   "metadata": {},
   "outputs": [],
   "source": [
    "transform = build_transform(cfg.get(\"trainer\").get(\"dataset\").get(\"augmentations\"))"
   ]
  },
  {
   "cell_type": "code",
   "execution_count": null,
   "metadata": {},
   "outputs": [],
   "source": [
    "transform"
   ]
  }
 ],
 "metadata": {
  "kernelspec": {
   "display_name": "fast-tfai-SRYBve37-py3.9",
   "language": "python",
   "name": "python3"
  },
  "language_info": {
   "codemirror_mode": {
    "name": "ipython",
    "version": 3
   },
   "file_extension": ".py",
   "mimetype": "text/x-python",
   "name": "python",
   "nbconvert_exporter": "python",
   "pygments_lexer": "ipython3",
   "version": "3.9.12"
  },
  "vscode": {
   "interpreter": {
    "hash": "dda41536bdf11d970e0ebbbb3ecc38ed7d8f751ba637ba03499ce81090dd9060"
   }
  }
 },
 "nbformat": 4,
 "nbformat_minor": 2
}
