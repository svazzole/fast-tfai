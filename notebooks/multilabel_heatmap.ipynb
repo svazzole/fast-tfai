{
 "cells": [
  {
   "cell_type": "code",
   "execution_count": null,
   "metadata": {},
   "outputs": [],
   "source": [
    "import cv2\n",
    "import matplotlib.pyplot as plt\n",
    "import numpy as np\n",
    "import tensorflow as tf\n",
    "import tensorflow.keras as tfk\n",
    "\n",
    "from fast_tfai.utils.utils import get_all_images"
   ]
  },
  {
   "cell_type": "code",
   "execution_count": null,
   "metadata": {},
   "outputs": [],
   "source": [
    "def pad_and_resize(img):\n",
    "    max_dim = img.shape[1]\n",
    "    new_img = np.zeros((max_dim, max_dim, 3), dtype=np.uint8)\n",
    "    pad = (max_dim - img.shape[0]) // 2\n",
    "    new_img[pad : pad + img.shape[0], :, :] = img\n",
    "    return cv2.resize(new_img, (380, 380))"
   ]
  },
  {
   "cell_type": "code",
   "execution_count": null,
   "metadata": {},
   "outputs": [],
   "source": [
    "def _wrap_with_heatmap(model: tf.keras.Model):\n",
    "    last_conv_layer = model.layers[-2].layers[-2].get_output_at(0)\n",
    "    weights = model.layers[-1].get_weights()[0]\n",
    "\n",
    "    backbone_conv_model = tf.keras.Model(\n",
    "        inputs=model.layers[-2].input, outputs=[last_conv_layer]\n",
    "    )\n",
    "\n",
    "    new_inputs = tf.keras.layers.Input(shape=model.input.shape[1:])\n",
    "    conv_layer = backbone_conv_model(new_inputs)\n",
    "    new_model = tf.keras.Model(inputs=new_inputs, outputs=[conv_layer], name=\"castrato\")\n",
    "\n",
    "    new_input = tf.keras.layers.Input(shape=model.input.shape[1:])\n",
    "    pred = model(new_input)\n",
    "    conv = new_model(new_input)\n",
    "    pred_class = tf.math.argmax(pred, axis=1)\n",
    "\n",
    "    reshaped_w = tf.expand_dims(weights, axis=0)\n",
    "    class_weights = tf.transpose(\n",
    "        tf.gather(reshaped_w, pred_class, axis=2), perm=[2, 1, 0]\n",
    "    )\n",
    "\n",
    "    output = tf.matmul(conv, class_weights)\n",
    "    heatmaps = tf.image.resize(\n",
    "        output, model.input.shape[1:3], method=\"bilinear\", name=\"heatmap\"\n",
    "    )\n",
    "\n",
    "    return tf.keras.Model(new_input, [pred, heatmaps])"
   ]
  },
  {
   "cell_type": "code",
   "execution_count": null,
   "metadata": {},
   "outputs": [],
   "source": [
    "def _wrap_with_heatmap_new(model: tf.keras.Model):\n",
    "    last_conv_layer = model.layers[-2].layers[-2].get_output_at(0)\n",
    "    weights = model.layers[-1].get_weights()[0]\n",
    "\n",
    "    backbone_conv_model = tf.keras.Model(\n",
    "        inputs=model.layers[-2].input, outputs=[last_conv_layer]\n",
    "    )\n",
    "\n",
    "    new_inputs = tf.keras.layers.Input(shape=model.input.shape[1:])\n",
    "    conv_layer = backbone_conv_model(new_inputs)\n",
    "    new_model = tf.keras.Model(inputs=new_inputs, outputs=[conv_layer], name=\"castrato\")\n",
    "\n",
    "    new_input = tf.keras.layers.Input(shape=model.input.shape[1:])\n",
    "    pred = model(new_input)\n",
    "    conv = new_model(new_input)\n",
    "\n",
    "    mask = pred > 0.5\n",
    "    pred_proba = pred * tf.cast(mask, tf.float32)\n",
    "    normalized_proba = pred_proba / tf.reduce_sum(pred_proba, axis=1, keepdims=True)\n",
    "    normalized_proba = tf.where(\n",
    "        tf.math.is_nan(normalized_proba),\n",
    "        tf.zeros_like(normalized_proba),\n",
    "        normalized_proba,\n",
    "    )\n",
    "\n",
    "    weighted_weights = tf.matmul(normalized_proba, tf.transpose(weights, perm=[1, 0]))\n",
    "    heatmap = tf.matmul(conv, tf.expand_dims(weighted_weights, axis=2))\n",
    "    heatmap = (\n",
    "        (heatmap - tf.reduce_min(heatmap))\n",
    "        / (tf.reduce_max(heatmap) - tf.reduce_min(heatmap))\n",
    "        * 255\n",
    "    )\n",
    "\n",
    "    heatmaps = tf.image.resize(\n",
    "        heatmap, model.input.shape[1:3], method=\"bilinear\", name=\"heatmap\"\n",
    "    )\n",
    "\n",
    "    return tf.keras.Model(new_input, [pred, heatmaps])"
   ]
  },
  {
   "cell_type": "code",
   "execution_count": null,
   "metadata": {},
   "outputs": [],
   "source": [
    "model_path = \"/home/simone/workspace/fogna/outputs/ompi/ST4/\"\n",
    "model = tfk.models.load_model(model_path)"
   ]
  },
  {
   "cell_type": "code",
   "execution_count": null,
   "metadata": {},
   "outputs": [],
   "source": [
    "model.summary()"
   ]
  },
  {
   "cell_type": "code",
   "execution_count": null,
   "metadata": {},
   "outputs": [],
   "source": [
    "model_with_heatmap = _wrap_with_heatmap_new(model)"
   ]
  },
  {
   "cell_type": "code",
   "execution_count": null,
   "metadata": {},
   "outputs": [],
   "source": [
    "model_with_heatmap.outputs"
   ]
  },
  {
   "cell_type": "code",
   "execution_count": null,
   "metadata": {},
   "outputs": [],
   "source": [
    "last_conv_layer = model.layers[-2].layers[-2].get_output_at(0)\n",
    "weights = model.layers[-1].get_weights()[0]\n",
    "backbone_conv_model = tf.keras.Model(\n",
    "    inputs=model.layers[-2].input, outputs=[last_conv_layer]\n",
    ")\n",
    "new_inputs = tf.keras.layers.Input(shape=model.input.shape[1:])\n",
    "conv_layer = backbone_conv_model(new_inputs)\n",
    "new_model = tf.keras.Model(inputs=new_inputs, outputs=[conv_layer], name=\"castrato\")\n",
    "\n",
    "new_input = tf.keras.layers.Input(shape=model.input.shape[1:])"
   ]
  },
  {
   "cell_type": "code",
   "execution_count": null,
   "metadata": {},
   "outputs": [],
   "source": [
    "pred = model(new_input)\n",
    "conv = new_model(new_input)"
   ]
  },
  {
   "cell_type": "code",
   "execution_count": null,
   "metadata": {},
   "outputs": [],
   "source": [
    "images_list = get_all_images(\"/home/simone/workspace/fogna/outputs/ompi/ST4/st4_ompi/\")"
   ]
  },
  {
   "cell_type": "code",
   "execution_count": null,
   "metadata": {},
   "outputs": [],
   "source": [
    "k = 11\n",
    "img = cv2.imread(str(images_list[k]))\n",
    "img = pad_and_resize(img)\n",
    "plt.imshow(img)"
   ]
  },
  {
   "cell_type": "code",
   "execution_count": null,
   "metadata": {},
   "outputs": [],
   "source": [
    "pred_simulated = model(img[np.newaxis, ...])\n",
    "conv = new_model(img[np.newaxis, ...])"
   ]
  },
  {
   "cell_type": "code",
   "execution_count": null,
   "metadata": {},
   "outputs": [],
   "source": [
    "mask = pred_simulated > 0.5\n",
    "pred_proba = pred_simulated * tf.cast(mask, tf.float32)\n",
    "normalized_proba = pred_proba / tf.reduce_sum(pred_proba, axis=1, keepdims=True)\n",
    "normalized_proba = tf.where(\n",
    "    tf.math.is_nan(normalized_proba), tf.zeros_like(normalized_proba), normalized_proba\n",
    ")\n",
    "\n",
    "print(pred_proba)\n",
    "print(normalized_proba)"
   ]
  },
  {
   "cell_type": "code",
   "execution_count": null,
   "metadata": {},
   "outputs": [],
   "source": [
    "weighted_weights = tf.matmul(normalized_proba, tf.transpose(weights, perm=[1, 0]))\n",
    "heatmap = tf.matmul(conv, tf.expand_dims(weighted_weights, axis=2))\n",
    "heatmap = (\n",
    "    (heatmap - tf.reduce_min(heatmap))\n",
    "    / (tf.reduce_max(heatmap) - tf.reduce_min(heatmap))\n",
    "    * 255\n",
    ")\n",
    "print(weighted_weights.shape)"
   ]
  },
  {
   "cell_type": "code",
   "execution_count": null,
   "metadata": {},
   "outputs": [],
   "source": [
    "heatmaps = cv2.resize(heatmap[0, :].numpy(), (380, 380), interpolation=cv2.INTER_LINEAR)"
   ]
  },
  {
   "cell_type": "code",
   "execution_count": null,
   "metadata": {},
   "outputs": [],
   "source": [
    "fig, ax = plt.subplots(1, 2, figsize=(16, 9))\n",
    "ax[0].imshow(img)\n",
    "ax[1].imshow(img)\n",
    "ax[1].imshow(np.array(heatmaps, np.uint8), cmap=\"jet\", alpha=0.5)"
   ]
  },
  {
   "cell_type": "code",
   "execution_count": null,
   "metadata": {},
   "outputs": [],
   "source": [
    "outputs = model_with_heatmap(img[np.newaxis, ...])\n",
    "heat = outputs[1]\n",
    "\n",
    "fig, ax = plt.subplots(1, 2, figsize=(16, 9))\n",
    "ax[0].imshow(img)\n",
    "ax[1].imshow(img)\n",
    "ax[1].imshow(np.array(heat[0, :], np.uint8), cmap=\"jet\", alpha=0.5)"
   ]
  }
 ],
 "metadata": {
  "kernelspec": {
   "display_name": "fast-tfai-SRYBve37-py3.9",
   "language": "python",
   "name": "python3"
  },
  "language_info": {
   "codemirror_mode": {
    "name": "ipython",
    "version": 3
   },
   "file_extension": ".py",
   "mimetype": "text/x-python",
   "name": "python",
   "nbconvert_exporter": "python",
   "pygments_lexer": "ipython3",
   "version": "3.9.12"
  },
  "vscode": {
   "interpreter": {
    "hash": "dda41536bdf11d970e0ebbbb3ecc38ed7d8f751ba637ba03499ce81090dd9060"
   }
  }
 },
 "nbformat": 4,
 "nbformat_minor": 2
}
